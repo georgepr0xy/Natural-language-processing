{
 "cells": [
  {
   "cell_type": "code",
   "execution_count": 17,
   "id": "65cdbf73-7c88-41be-8b41-4693c35d20e4",
   "metadata": {},
   "outputs": [
    {
     "name": "stdout",
     "output_type": "stream",
     "text": [
      "showing info https://raw.githubusercontent.com/nltk/nltk_data/gh-pages/index.xml\n"
     ]
    },
    {
     "data": {
      "text/plain": [
       "True"
      ]
     },
     "execution_count": 17,
     "metadata": {},
     "output_type": "execute_result"
    }
   ],
   "source": [
    "import nltk\n",
    "nltk.download()"
   ]
  },
  {
   "cell_type": "code",
   "execution_count": 12,
   "id": "cf576690-0d99-4818-becc-111447ec7237",
   "metadata": {},
   "outputs": [],
   "source": [
    "paragraph = \"Narendra Modi is the 14th Prime Minister of the Republic of India. He started his life as a small kid who used to sell tea with his father in Vadnagar, Mehsana, Gujarat. Since his early childhood, he had a keen interest in helping people. Due to this reason, he joined the Bharatiya Janta Party in the year 1987.\"\n",
    "sentences= nltk.sent_tokenize(paragraph)"
   ]
  },
  {
   "cell_type": "code",
   "execution_count": 14,
   "id": "fad7a7ec-9d11-467c-8f4c-56f3b37887b6",
   "metadata": {},
   "outputs": [
    {
     "data": {
      "text/plain": [
       "['Narendra Modi is the 14th Prime Minister of the Republic of India.',\n",
       " 'He started his life as a small kid who used to sell tea with his father in Vadnagar, Mehsana, Gujarat.',\n",
       " 'Since his early childhood, he had a keen interest in helping people.',\n",
       " 'Due to this reason, he joined the Bharatiya Janta Party in the year 1987.']"
      ]
     },
     "execution_count": 14,
     "metadata": {},
     "output_type": "execute_result"
    }
   ],
   "source": [
    "sentences"
   ]
  },
  {
   "cell_type": "code",
   "execution_count": 18,
   "id": "0cb5363c-18e9-4dd1-81a6-2331d8648e84",
   "metadata": {},
   "outputs": [],
   "source": [
    "words = nltk.word_tokenize(paragraph)"
   ]
  },
  {
   "cell_type": "code",
   "execution_count": 19,
   "id": "40969cad-aa3b-4233-8dd5-f87a1aef6980",
   "metadata": {},
   "outputs": [
    {
     "data": {
      "text/plain": [
       "['Narendra',\n",
       " 'Modi',\n",
       " 'is',\n",
       " 'the',\n",
       " '14th',\n",
       " 'Prime',\n",
       " 'Minister',\n",
       " 'of',\n",
       " 'the',\n",
       " 'Republic',\n",
       " 'of',\n",
       " 'India',\n",
       " '.',\n",
       " 'He',\n",
       " 'started',\n",
       " 'his',\n",
       " 'life',\n",
       " 'as',\n",
       " 'a',\n",
       " 'small',\n",
       " 'kid',\n",
       " 'who',\n",
       " 'used',\n",
       " 'to',\n",
       " 'sell',\n",
       " 'tea',\n",
       " 'with',\n",
       " 'his',\n",
       " 'father',\n",
       " 'in',\n",
       " 'Vadnagar',\n",
       " ',',\n",
       " 'Mehsana',\n",
       " ',',\n",
       " 'Gujarat',\n",
       " '.',\n",
       " 'Since',\n",
       " 'his',\n",
       " 'early',\n",
       " 'childhood',\n",
       " ',',\n",
       " 'he',\n",
       " 'had',\n",
       " 'a',\n",
       " 'keen',\n",
       " 'interest',\n",
       " 'in',\n",
       " 'helping',\n",
       " 'people',\n",
       " '.',\n",
       " 'Due',\n",
       " 'to',\n",
       " 'this',\n",
       " 'reason',\n",
       " ',',\n",
       " 'he',\n",
       " 'joined',\n",
       " 'the',\n",
       " 'Bharatiya',\n",
       " 'Janta',\n",
       " 'Party',\n",
       " 'in',\n",
       " 'the',\n",
       " 'year',\n",
       " '1987',\n",
       " '.']"
      ]
     },
     "execution_count": 19,
     "metadata": {},
     "output_type": "execute_result"
    }
   ],
   "source": [
    "words"
   ]
  },
  {
   "cell_type": "code",
   "execution_count": null,
   "id": "52b878f0-49a4-4ba7-91b0-0c1daa408ffe",
   "metadata": {},
   "outputs": [],
   "source": []
  }
 ],
 "metadata": {
  "kernelspec": {
   "display_name": "Python 3 (ipykernel)",
   "language": "python",
   "name": "python3"
  },
  "language_info": {
   "codemirror_mode": {
    "name": "ipython",
    "version": 3
   },
   "file_extension": ".py",
   "mimetype": "text/x-python",
   "name": "python",
   "nbconvert_exporter": "python",
   "pygments_lexer": "ipython3",
   "version": "3.10.6"
  }
 },
 "nbformat": 4,
 "nbformat_minor": 5
}
